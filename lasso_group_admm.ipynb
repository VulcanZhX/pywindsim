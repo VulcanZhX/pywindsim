{
 "cells": [
  {
   "cell_type": "code",
   "execution_count": 34,
   "metadata": {},
   "outputs": [],
   "source": [
    "import numpy as np\n",
    "import scipy as sci\n",
    "import matplotlib.pyplot as plt\n",
    "import time"
   ]
  },
  {
   "cell_type": "code",
   "execution_count": 35,
   "metadata": {},
   "outputs": [],
   "source": [
    "global QUIET, MAX_ITER, ABSTOL, RELTOL\n",
    "QUIET = False\n",
    "MAX_ITER = 1000\n",
    "ABSTOL = 1e-4\n",
    "RELTOL = 1e-2 "
   ]
  },
  {
   "cell_type": "code",
   "execution_count": 36,
   "metadata": {},
   "outputs": [],
   "source": [
    "m, n = 100, 200\n",
    "p = 20 / n\n",
    "group_number = 5\n",
    "x0 = sci.sparse.rand(n*group_number, 1, p).toarray() # n x 1 array with p% non-zeros\n",
    "A_grouped = np.random.randn(m, n*group_number)\n",
    "A_grouped = A_grouped*sci.sparse.diags([1/np.sqrt(np.sum(A_grouped**2, axis=0))], [0]) # normalize columns\n",
    "\n",
    "b_grouped_list = []\n",
    "for i in range(group_number):\n",
    "    b_grouped_list.append(A_grouped[:,i*n:(i+1)*n] @ x0[i*n:(i+1)*n])\n",
    "b_grouped = np.concatenate(b_grouped_list, axis=1)\n",
    "\n",
    "# pentalty parameter and l1 soft thresholding\n",
    "rho, alpha = 1.0, 1.0"
   ]
  },
  {
   "cell_type": "code",
   "execution_count": 37,
   "metadata": {},
   "outputs": [],
   "source": [
    "def soft_threshold(x, lamb):\n",
    "    return np.maximum(0, np.abs(x) - lamb) * np.sign(x)\n",
    "\n",
    "def objective_f(x_grp, A_grp, b_grp):\n",
    "    return 1"
   ]
  },
  {
   "cell_type": "code",
   "execution_count": 38,
   "metadata": {},
   "outputs": [],
   "source": [
    "# Data processing\n",
    "# Compute At_i*b_i for each group\n",
    "Atb_grouped_list = []\n",
    "for i in range(group_number):\n",
    "    Atb_grouped_list.append(A_grouped[:,i*n:(i+1)*n].T @ b_grouped[:,i])"
   ]
  },
  {
   "cell_type": "markdown",
   "metadata": {},
   "source": [
    "## ADMM Solver"
   ]
  },
  {
   "cell_type": "code",
   "execution_count": null,
   "metadata": {},
   "outputs": [],
   "source": [
    "x = np.zeros((n, group_number)) # reshape x0 to a matrix to simplifiy calculation\n",
    "z = np.zeros((n, 1))\n",
    "u = np.zeros((n, group_number))  # u is the dual variable\n",
    "\n",
    "for k in range(MAX_ITER):\n",
    "    # x-update\n",
    "    for ind_x in range(group_number):\n",
    "        u_local = u[:, ind_x].reshape(-1, 1)\n",
    "        q_local = Atb_grouped_list[ind_x].reshape(-1, 1) + rho * (z - u_local)\n",
    "        x_local = sci.linalg.solve(\n",
    "            A_grouped[:, ind_x * n : (ind_x + 1) * n].T\n",
    "            @ A_grouped[:, ind_x * n : (ind_x + 1) * n]\n",
    "            + rho * np.eye(n),\n",
    "            q_local,\n",
    "        )\n",
    "        x[:, ind_x] = x_local.ravel()\n",
    "\n",
    "    # z-update without relaxation\n",
    "    z = np.average(x + u / rho, axis=1).reshape(-1, 1)\n",
    "\n",
    "    # u-update\n",
    "    for ind_u in range(group_number):\n",
    "        u_local = u[:, ind_u].reshape(-1, 1)\n",
    "        u[:, ind_u] = (u_local + rho * (x[:, ind_u].reshape(-1, 1) - z)).ravel()\n",
    "        \n",
    "    # diagnostics, reporting, termination checks"
   ]
  }
 ],
 "metadata": {
  "kernelspec": {
   "display_name": "pywake",
   "language": "python",
   "name": "pywake"
  }
 },
 "nbformat": 4,
 "nbformat_minor": 2
}
