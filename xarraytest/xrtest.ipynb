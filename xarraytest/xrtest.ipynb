{
 "cells": [
  {
   "cell_type": "markdown",
   "metadata": {},
   "source": [
    "## XArray Overview\n",
    "Here are some quick examples about what you can do with `xarray.DataArray` objects."
   ]
  },
  {
   "cell_type": "code",
   "execution_count": 1,
   "metadata": {},
   "outputs": [],
   "source": [
    "import numpy as np\n",
    "import pandas as pd\n",
    "import xarray as xr"
   ]
  },
  {
   "cell_type": "markdown",
   "metadata": {},
   "source": [
    "In this case, we have generated a 2D array, assigned the names x and y to the two dimensions respectively and associated two coordinate labels ‘10’ and ‘20’ with the two locations along the x dimension. If you supply a pandas Series or DataFrame, metadata is copied directly:"
   ]
  },
  {
   "cell_type": "code",
   "execution_count": 2,
   "metadata": {},
   "outputs": [
    {
     "name": "stdout",
     "output_type": "stream",
     "text": [
      "<xarray.DataArray (x: 2, y: 3)> Size: 48B\n",
      "array([[-1.63318123, -0.70612581, -0.72349762],\n",
      "       [ 0.01054072,  0.6052064 ,  0.80355523]])\n",
      "Coordinates:\n",
      "  * x        (x) int64 16B 10 20\n",
      "Dimensions without coordinates: y\n"
     ]
    }
   ],
   "source": [
    "data = xr.DataArray(np.random.randn(2, 3), dims=(\"x\", \"y\"), coords={\"x\": [10, 20]})\n",
    "print(data)"
   ]
  }
 ],
 "metadata": {
  "kernelspec": {
   "display_name": "pywake",
   "language": "python",
   "name": "pywake"
  }
 },
 "nbformat": 4,
 "nbformat_minor": 2
}
